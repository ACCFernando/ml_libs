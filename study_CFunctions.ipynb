{
 "cells": [
  {
   "cell_type": "code",
   "execution_count": 1,
   "metadata": {},
   "outputs": [],
   "source": [
    "from CFunctions import *\n",
    "import numpy as np\n",
    "from matplotlib import pyplot as plt\n",
    "\n",
    "%matplotlib inline"
   ]
  },
  {
   "cell_type": "markdown",
   "metadata": {},
   "source": [
    "BASIC OPERATORS"
   ]
  },
  {
   "cell_type": "code",
   "execution_count": 2,
   "metadata": {
    "tags": []
   },
   "outputs": [],
   "source": [
    "vect_x = np.arange(10,1000,2)\n",
    "vect_y = np.arange(3025,5500,5)"
   ]
  },
  {
   "cell_type": "code",
   "execution_count": 3,
   "metadata": {},
   "outputs": [
    {
     "data": {
      "text/plain": [
       "4208880.0"
      ]
     },
     "execution_count": 3,
     "metadata": {},
     "output_type": "execute_result"
    }
   ],
   "source": [
    "a = area(vect_x, vect_y)\n",
    "a"
   ]
  },
  {
   "cell_type": "code",
   "execution_count": 4,
   "metadata": {},
   "outputs": [
    {
     "data": {
      "image/png": "[encoded data removed]",
      "text/plain": [
       "<Figure size 200x200 with 1 Axes>"
      ]
     },
     "metadata": {},
     "output_type": "display_data"
    }
   ],
   "source": [
    "se = shannon_entropy(vect_x/np.max(vect_x))\n",
    "# Shannon entropy curve\n",
    "plt.figure(figsize=(2,2))\n",
    "plt.plot(vect_x, se);"
   ]
  },
  {
   "cell_type": "code",
   "execution_count": 5,
   "metadata": {},
   "outputs": [
    {
     "data": {
      "text/plain": [
       "0.47245139752141346"
      ]
     },
     "execution_count": 5,
     "metadata": {},
     "output_type": "execute_result"
    }
   ],
   "source": [
    "logloss(se[se>0],se[se>0]*0.5)"
   ]
  },
  {
   "cell_type": "code",
   "execution_count": 6,
   "metadata": {},
   "outputs": [
    {
     "data": {
      "text/plain": [
       "504.0"
      ]
     },
     "execution_count": 6,
     "metadata": {},
     "output_type": "execute_result"
    }
   ],
   "source": [
    "mean_calc(vect_x)"
   ]
  },
  {
   "cell_type": "markdown",
   "metadata": {},
   "source": [
    "Regression metrics"
   ]
  },
  {
   "cell_type": "code",
   "execution_count": 7,
   "metadata": {},
   "outputs": [
    {
     "data": {
      "text/plain": [
       "0.2525050100200401"
      ]
     },
     "execution_count": 7,
     "metadata": {},
     "output_type": "execute_result"
    }
   ],
   "source": [
    "diff = vect_x/np.max(vect_x)-vect_x/np.max(vect_x)/2\n",
    "mae_calc(diff)"
   ]
  },
  {
   "cell_type": "code",
   "execution_count": 8,
   "metadata": {},
   "outputs": [
    {
     "data": {
      "text/plain": [
       "0.08425936709758862"
      ]
     },
     "execution_count": 8,
     "metadata": {},
     "output_type": "execute_result"
    }
   ],
   "source": [
    "diff = vect_x/np.max(vect_x)-vect_x/np.max(vect_x)/2\n",
    "mse_calc(diff)"
   ]
  },
  {
   "cell_type": "code",
   "execution_count": 9,
   "metadata": {},
   "outputs": [
    {
     "name": "stdout",
     "output_type": "stream",
     "text": [
      "cf_oc=True, ind_a=351, ind_b=390, a=array([4780., 2390.]), b=array([4975. , 2487.5])\n"
     ]
    }
   ],
   "source": [
    "# Ordering check func\n",
    "index_pairs = np.random.choice(vect_x.size,3,replace=True)\n",
    "value_pairs = np.array(list(zip(vect_y, vect_y/2)))\n",
    "i = 1\n",
    "cf_oc = ordering_check(index_pairs, value_pairs, i)\n",
    "\n",
    "ind_a = index_pairs[i]\n",
    "ind_b = index_pairs[i+1]\n",
    "a = value_pairs[ind_a]\n",
    "b = value_pairs[ind_b]\n",
    "print(f\"{cf_oc=}, {ind_a=}, {ind_b=}, {a=}, {b=}\")"
   ]
  },
  {
   "cell_type": "markdown",
   "metadata": {},
   "source": [
    "Probability distribution metrics"
   ]
  },
  {
   "cell_type": "code",
   "execution_count": 14,
   "metadata": {},
   "outputs": [
    {
     "data": {
      "text/plain": [
       "[<matplotlib.lines.Line2D at 0x14ff141bc10>]"
      ]
     },
     "execution_count": 14,
     "metadata": {},
     "output_type": "execute_result"
    },
    {
     "data": {
      "image/png": "[encoded data removed]",
      "text/plain": [
       "<Figure size 300x300 with 1 Axes>"
      ]
     },
     "metadata": {},
     "output_type": "display_data"
    }
   ],
   "source": [
    "y_unique = np.unique(vect_y)\n",
    "acum_prob_points = acum_probability_distribution_points(vect_y, y_unique)\n",
    "plt.figure(figsize=(3,3))\n",
    "plt.plot(vect_x, acum_prob_points)"
   ]
  },
  {
   "cell_type": "code",
   "execution_count": 22,
   "metadata": {},
   "outputs": [
    {
     "data": {
      "text/plain": [
       "1.0"
      ]
     },
     "execution_count": 22,
     "metadata": {},
     "output_type": "execute_result"
    }
   ],
   "source": [
    "y_acum1 = acum_prob_points\n",
    "y_acum2 = acum_probability_distribution_points(vect_y+0.005,np.unique(vect_y+0.005))\n",
    "ks = ks_calc(y_acum1, y_acum2)\n",
    "ks"
   ]
  },
  {
   "cell_type": "code",
   "execution_count": 37,
   "metadata": {},
   "outputs": [
    {
     "data": {
      "text/plain": [
       "225.00000000000003"
      ]
     },
     "execution_count": 37,
     "metadata": {},
     "output_type": "execute_result"
    }
   ],
   "source": [
    "inf_bin = 0.05\n",
    "sup_bin = 0.95 \n",
    "min_values = (vect_x/np.max(vect_x))\n",
    "max_values =(vect_x/np.max(vect_x))\n",
    "probs = vect_x/np.max(vect_x)\n",
    "prob_bin = bin_probability_count(inf_bin, sup_bin, min_values, max_values, probs)\n",
    "prob_bin"
   ]
  },
  {
   "cell_type": "code",
   "execution_count": null,
   "metadata": {},
   "outputs": [],
   "source": []
  }
 ],
 "metadata": {
  "kernelspec": {
   "display_name": "study",
   "language": "python",
   "name": "python3"
  },
  "language_info": {
   "codemirror_mode": {
    "name": "ipython",
    "version": 3
   },
   "file_extension": ".py",
   "mimetype": "text/x-python",
   "name": "python",
   "nbconvert_exporter": "python",
   "pygments_lexer": "ipython3",
   "version": "3.10.4"
  },
  "orig_nbformat": 4
 },
 "nbformat": 4,
 "nbformat_minor": 2
}
