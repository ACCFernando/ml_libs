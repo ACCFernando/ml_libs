{
 "cells": [
  {
   "cell_type": "markdown",
   "metadata": {},
   "source": [
    "# Imports"
   ]
  },
  {
   "cell_type": "code",
   "execution_count": null,
   "metadata": {},
   "outputs": [],
   "source": [
    "from CFunctions import *\n",
    "import numpy as np\n",
    "from matplotlib import pyplot as plt\n",
    "from numba import jit_module, jit, prange\n",
    "import numpy as np\n",
    "from scipy.stats import norm\n",
    "\n",
    "%matplotlib inline"
   ]
  },
  {
   "cell_type": "markdown",
   "metadata": {},
   "source": [
    "# Basic operators"
   ]
  },
  {
   "cell_type": "code",
   "execution_count": null,
   "metadata": {
    "tags": []
   },
   "outputs": [],
   "source": [
    "vect_x = np.arange(10,1000,2)\n",
    "vect_y = np.arange(3025,5500,5)"
   ]
  },
  {
   "cell_type": "code",
   "execution_count": null,
   "metadata": {},
   "outputs": [],
   "source": [
    "a = area(vect_x, vect_y)\n",
    "a"
   ]
  },
  {
   "cell_type": "code",
   "execution_count": null,
   "metadata": {},
   "outputs": [],
   "source": [
    "# TEST 1\n",
    "entrada = [0.5, 0.75, 0.25]\n",
    "# TEST 2\n",
    "# entrada = [0, 1]\n",
    "# TEST 3\n",
    "# entrada = [0.5, 0.5]\n",
    "shannon_entropy(entrada)"
   ]
  },
  {
   "cell_type": "code",
   "execution_count": null,
   "metadata": {},
   "outputs": [],
   "source": [
    "# TEST 1\n",
    "# Entradas\n",
    "entropy_vector = np.array([0.5, 1.0])\n",
    "entropy_aux = 0.2\n",
    "partial_entropy_c = 0.3\n",
    "accum_quant_c = 50\n",
    "partial_entropy_r = 0.4\n",
    "remain_quant = 25\n",
    "total_quant = 100\n",
    "\n",
    "# Saída esperada\n",
    "expected_output = np.array([0.5, 1.0, 0.45])  # Calculated partial entropy is 0.35\n",
    "\n",
    "# Test\n",
    "output = partial_entropy_vector(entropy_vector, entropy_aux, partial_entropy_c, accum_quant_c, partial_entropy_r, remain_quant, total_quant)\n",
    "output\n",
    "tolerance = 1e-3\n",
    "assert np.allclose(output, expected_output, atol=tolerance, rtol=0), \"Os valores não correspondem dentro da tolerância especificada.\"\n",
    "\n",
    "#TEST 2\n",
    "# Entradas\n",
    "# entropy_vector = np.array([0.5, 1.0])\n",
    "# entropy_aux = 0.2\n",
    "# partial_entropy_c = 0.3\n",
    "# accum_quant_c = 50\n",
    "# partial_entropy_r = 0.4\n",
    "# remain_quant = 25\n",
    "# total_quant = 0  # Valor problemático que deve levantar um erro\n",
    "\n",
    "# # Test\n",
    "# try:\n",
    "#     output = partial_entropy_vector(entropy_vector, entropy_aux, partial_entropy_c, accum_quant_c, partial_entropy_r, remain_quant, total_quant)\n",
    "#     assert False  # Se não ocorrer erro, falha o teste\n",
    "# except ValueError:\n",
    "#     pass  # Teste passa se ValueError é levantado"
   ]
  },
  {
   "cell_type": "code",
   "execution_count": null,
   "metadata": {},
   "outputs": [],
   "source": [
    "# TEST 1\n",
    "partial_entropy = [0.5, 0.4]\n",
    "accum_quant = [10, 20]\n",
    "partial_entropy_c = [0.6, 0.5]\n",
    "accum_quant_c = [15, 30]\n",
    "total_quant = 50\n",
    "initial_entropy = 0.7\n",
    "# TEST 2 \n",
    "# partial_entropy = [0.5, 0.5, 0.5]\n",
    "# accum_quant = [20, 40, 60]\n",
    "# partial_entropy_c = [0.5, 0.5, 0.5]\n",
    "# accum_quant_c = [30, 60, 90]\n",
    "# total_quant = 150\n",
    "# initial_entropy = 0.5\n",
    "# TEST 3\n",
    "# partial_entropy = []\n",
    "# accum_quant = []\n",
    "# partial_entropy_c = []\n",
    "# accum_quant_c = []\n",
    "# total_quant = 1\n",
    "# initial_entropy = 0.5\n",
    "\n",
    "information_gain_curve(partial_entropy, accum_quant, partial_entropy, accum_quant, total_quant, initial_entropy)"
   ]
  },
  {
   "cell_type": "code",
   "execution_count": null,
   "metadata": {},
   "outputs": [],
   "source": [
    "# Inputs\n",
    "y = np.array([1, 0, 1, 0])\n",
    "y_h = np.array([0.9, 0.1, 0.8, 0.2])\n",
    "\n",
    "# Expected Output\n",
    "# Calculating each component separately:\n",
    "# For y=1: -log(0.9), -log(0.8)\n",
    "# For y=0: -log(1-0.1), -log(1-0.2)\n",
    "# Average these values\n",
    "expected_loss = -1 * np.mean([np.log(0.9), np.log(0.8), np.log(0.9), np.log(0.8)])\n",
    "\n",
    "# Test\n",
    "calculated_loss = logloss(y, y_h)\n",
    "assert np.isclose(calculated_loss, expected_loss), f\"Expected {expected_loss}, got {calculated_loss}\"\n",
    "calculated_loss\n"
   ]
  },
  {
   "cell_type": "code",
   "execution_count": null,
   "metadata": {},
   "outputs": [],
   "source": [
    "mean_calc(vect_x)"
   ]
  },
  {
   "cell_type": "markdown",
   "metadata": {},
   "source": [
    "# Regression metrics"
   ]
  },
  {
   "cell_type": "code",
   "execution_count": null,
   "metadata": {},
   "outputs": [],
   "source": [
    "diff = vect_x/np.max(vect_x)-vect_x/np.max(vect_x)/2\n",
    "mae_calc(diff)"
   ]
  },
  {
   "cell_type": "code",
   "execution_count": null,
   "metadata": {},
   "outputs": [],
   "source": [
    "diff = vect_x/np.max(vect_x)-vect_x/np.max(vect_x)/2\n",
    "mse_calc(diff)"
   ]
  },
  {
   "cell_type": "code",
   "execution_count": null,
   "metadata": {},
   "outputs": [],
   "source": [
    "# Ordering check func\n",
    "# TESTE 1\n",
    "# index_pairs = [(0, 1), (1, 2)]\n",
    "# value_pairs = [(5.0, 3.0), (7.0, 6.0), (2.0, 2.0)]\n",
    "# i = 0\n",
    "# TESTE 2\n",
    "index_pairs = np.array([(0, 1), (1, 2)])\n",
    "value_pairs = np.array([(3.0, 5.0), (7.0, 6.0), (2.0, 2.0)])\n",
    "i = 0\n",
    "ordering_check(index_pairs, value_pairs, i)"
   ]
  },
  {
   "cell_type": "markdown",
   "metadata": {},
   "source": [
    "# Probability distribution metrics"
   ]
  },
  {
   "cell_type": "code",
   "execution_count": null,
   "metadata": {},
   "outputs": [],
   "source": [
    "# TESTE 1\n",
    "# y_points = [1, 2, 3, 4, 5]\n",
    "# y = [2, 4]\n",
    "# TESTE 2\n",
    "# y_points = [1, 1, 2, 2, 3, 3, 4, 4, 5, 5]\n",
    "# y = [3, 5]\n",
    "# TESTE 3\n",
    "y_points = [10, 20, 30, 40, 50]\n",
    "y = [15, 35, 55]\n",
    "\n",
    "acum_prob_points = acum_probability_distribution_points(y_points = y_points,y = y)\n",
    "# acum_prob_points\n",
    "plt.figure(figsize=(3,3))\n",
    "plt.plot(y, acum_prob_points)"
   ]
  },
  {
   "cell_type": "code",
   "execution_count": null,
   "metadata": {},
   "outputs": [],
   "source": [
    "# TESTE 1\n",
    "# y_acum1 = [0.2, 0.4, 0.6, 0.8, 1.0]\n",
    "# y_acum2 = [0.1, 0.3, 0.5, 0.7, 0.9]\n",
    "# TESTE 2\n",
    "# y_acum1 = [0.0, 0.5, 1.0]\n",
    "# y_acum2 = [0.0, 0.5, 1.0]\n",
    "# TESTE 3\n",
    "y_acum1 = [0.25, 0.5, 0.75, 1.0]\n",
    "y_acum2 = [0.0, 0.33, 0.66, 1.0]\n",
    "\n",
    "ks = ks_calc(y_acum1, y_acum2)\n",
    "ks"
   ]
  },
  {
   "cell_type": "code",
   "execution_count": null,
   "metadata": {},
   "outputs": [],
   "source": [
    "#Teste bin probs\n",
    "prob_bin = bin_probability_count(1.0, 2.0, [0.5, 1.5], [1.5, 2.5], np.array([0.3, 0.7]))\n",
    "prob_bin"
   ]
  },
  {
   "cell_type": "markdown",
   "metadata": {},
   "source": [
    "# Group and ordering operators"
   ]
  },
  {
   "cell_type": "code",
   "execution_count": null,
   "metadata": {},
   "outputs": [],
   "source": [
    "result_unique_qt = unique_qt(vect_x)\n",
    "result_unique_qt"
   ]
  },
  {
   "cell_type": "code",
   "execution_count": null,
   "metadata": {},
   "outputs": [],
   "source": [
    "# TESTE 1\n",
    "# entrada = np.array([1, 2, 2, 3, 3, 3])\n",
    "# TESTE 2\n",
    "# entrada = np.array([4, 4, 4, 4])\n",
    "# TESTE 3\n",
    "entrada = np.array([])\n",
    "unique_values_and_counts(entrada)"
   ]
  },
  {
   "cell_type": "code",
   "execution_count": null,
   "metadata": {},
   "outputs": [],
   "source": [
    "# TESTE 1\n",
    "# entrada = np.array([3, 2, 1, 3, 2])\n",
    "# TESTE 2\n",
    "# entrada = np.array([1, 1, 1, 1])\n",
    "# TESTE 3\n",
    "# entrada = np.array([])\n",
    "# TESTE 4\n",
    "# entrada = np.array([-2, -1, 0, 1, 2])\n",
    "# TESTE 5\n",
    "entrada = np.array([1.5, 2.5, 1.5, 3.5])\n",
    "indices_and_counts(entrada)"
   ]
  },
  {
   "cell_type": "code",
   "execution_count": null,
   "metadata": {},
   "outputs": [],
   "source": [
    "# TESTE 1\n",
    "# entrada = np.array([3, 2, 1, 3, 2])\n",
    "# TESTE 2\n",
    "entrada = np.array([4, 4, 4, 4])\n",
    "# TESTE 3\n",
    "# entrada = np.array([])\n",
    "indices_unique_values_and_counts(entrada)"
   ]
  },
  {
   "cell_type": "markdown",
   "metadata": {},
   "source": [
    "# Conditional Metrics"
   ]
  },
  {
   "cell_type": "code",
   "execution_count": null,
   "metadata": {},
   "outputs": [],
   "source": [
    "ig = 0.5\n",
    "# TEST 1\n",
    "quantities1 = np.array([10, 20, 30])\n",
    "quantities = np.array([10, 20, 50])\n",
    "probabilities1 = np.array([0.3, 0.6,0.7])\n",
    "non_zero_count = 100\n",
    "# TEST 2\n",
    "# quantities1= np.array([])\n",
    "# quantities = np.array([])\n",
    "# probabilities1 = np.array([])\n",
    "# non_zero_count = 100\n"
   ]
  },
  {
   "cell_type": "code",
   "execution_count": null,
   "metadata": {},
   "outputs": [],
   "source": [
    "calculate_initial_entropy(quantities1, non_zero_count)"
   ]
  },
  {
   "cell_type": "code",
   "execution_count": null,
   "metadata": {},
   "outputs": [],
   "source": [
    "calculate_partial_entropies(probabilities1)"
   ]
  },
  {
   "cell_type": "code",
   "execution_count": null,
   "metadata": {},
   "outputs": [],
   "source": [
    "calculate_relative_gain(ig, quantities, non_zero_count)"
   ]
  },
  {
   "cell_type": "code",
   "execution_count": null,
   "metadata": {},
   "outputs": [],
   "source": [
    "calculate_conditional_ig_rg(quantities1, quantities, probabilities1, non_zero_count)"
   ]
  },
  {
   "cell_type": "code",
   "execution_count": null,
   "metadata": {},
   "outputs": [],
   "source": [
    "# TEST 1\n",
    "y = np.array([5.0, 7.0, 8.0, 6.0])\n",
    "conditional_vars = np.array([0.2, 0.3, 0.4, 0.1])\n",
    "quantities = np.array([10, 15, 20, 5])\n",
    "non_zero_count = 50\n",
    "values = np.array([3.0, 4.0, 5.0, 2.0])\n",
    "conditional_vars_feature = np.array([0.3, 0.2, 0.4, 0.1])\n",
    "# TEST 2\n",
    "# y = np.array([5.0, 5.0, 5.0, 5.0]) # constant values \n",
    "# conditional_vars = np.array([0.2, 0.3, 0.4, 0.1])\n",
    "# quantities = np.array([10, 15, 20, 5])\n",
    "# non_zero_count = 50\n",
    "# values = np.array([3.0, 4.0, 5.0, 2.0])\n",
    "# conditional_vars_feature = np.array([0.3, 0.2, 0.4, 0.1])\n",
    "# TEST 3\n",
    "# y = np.array([5.0, 7.0, 8.0, 6.0])\n",
    "# conditional_vars = np.array([0.2, 0.3, 0.4, 0.1])\n",
    "# quantities = np.array([10, 15, 20, 5])\n",
    "# non_zero_count = 50\n",
    "# values = np.array([4.0, 4.0, 4.0, 4.0]) #(constant values)\n",
    "# conditional_vars_feature = np.array([0.3, 0.2, 0.4, 0.1])"
   ]
  },
  {
   "cell_type": "code",
   "execution_count": null,
   "metadata": {},
   "outputs": [],
   "source": [
    "calculate_r2_and_conditional_r2_ratio(y, conditional_vars, quantities, non_zero_count, values, conditional_vars_feature)"
   ]
  },
  {
   "cell_type": "code",
   "execution_count": null,
   "metadata": {},
   "outputs": [],
   "source": []
  }
 ],
 "metadata": {
  "kernelspec": {
   "display_name": "study",
   "language": "python",
   "name": "python3"
  },
  "language_info": {
   "codemirror_mode": {
    "name": "ipython",
    "version": 3
   },
   "file_extension": ".py",
   "mimetype": "text/x-python",
   "name": "python",
   "nbconvert_exporter": "python",
   "pygments_lexer": "ipython3",
   "version": "3.10.4"
  },
  "orig_nbformat": 4
 },
 "nbformat": 4,
 "nbformat_minor": 2
}
