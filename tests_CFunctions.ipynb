{
 "cells": [
  {
   "cell_type": "code",
   "execution_count": 1,
   "metadata": {},
   "outputs": [],
   "source": [
    "from CFunctions import *\n",
    "import numpy as np\n",
    "from matplotlib import pyplot as plt\n",
    "from numba import jit_module, jit, prange\n",
    "import numpy as np\n",
    "from scipy.stats import norm\n",
    "\n",
    "%matplotlib inline"
   ]
  },
  {
   "cell_type": "markdown",
   "metadata": {},
   "source": [
    "BASIC OPERATORS"
   ]
  },
  {
   "cell_type": "code",
   "execution_count": 2,
   "metadata": {
    "tags": []
   },
   "outputs": [],
   "source": [
    "vect_x = np.arange(10,1000,2)\n",
    "vect_y = np.arange(3025,5500,5)"
   ]
  },
  {
   "cell_type": "code",
   "execution_count": 3,
   "metadata": {},
   "outputs": [
    {
     "data": {
      "text/plain": [
       "4208880.0"
      ]
     },
     "execution_count": 3,
     "metadata": {},
     "output_type": "execute_result"
    }
   ],
   "source": [
    "a = area(vect_x, vect_y)\n",
    "a"
   ]
  },
  {
   "cell_type": "code",
   "execution_count": 4,
   "metadata": {},
   "outputs": [
    {
     "data": {
      "text/plain": [
       "array([1., 1.])"
      ]
     },
     "execution_count": 4,
     "metadata": {},
     "output_type": "execute_result"
    }
   ],
   "source": [
    "# TEST 1\n",
    "# entrada = [0.5, 0.75, 0.25]\n",
    "# TEST 2\n",
    "# entrada = [0, 1]\n",
    "# TEST 3\n",
    "# entrada = [0.5, 0.5]\n",
    "shannon_entropy(entrada)"
   ]
  },
  {
   "cell_type": "code",
   "execution_count": 8,
   "metadata": {},
   "outputs": [
    {
     "data": {
      "text/plain": [
       "array([0.71428571, 0.54285714, 0.        ])"
      ]
     },
     "execution_count": 8,
     "metadata": {},
     "output_type": "execute_result"
    }
   ],
   "source": [
    "# TEST 1\n",
    "partial_entropy = [0.5, 0.4]\n",
    "accum_quant = [10, 20]\n",
    "partial_entropy_c = [0.6, 0.5]\n",
    "accum_quant_c = [15, 30]\n",
    "total_quant = 50\n",
    "initial_entropy = 0.7\n",
    "# TEST 2 \n",
    "# partial_entropy = [0.5, 0.5, 0.5]\n",
    "# accum_quant = [20, 40, 60]\n",
    "# partial_entropy_c = [0.5, 0.5, 0.5]\n",
    "# accum_quant_c = [30, 60, 90]\n",
    "# total_quant = 150\n",
    "# initial_entropy = 0.5\n",
    "# TEST 3\n",
    "# partial_entropy = []\n",
    "# accum_quant = []\n",
    "# partial_entropy_c = []\n",
    "# accum_quant_c = []\n",
    "# total_quant = 1\n",
    "# initial_entropy = 0.5\n",
    "\n",
    "information_gain_curve(partial_entropy, accum_quant, partial_entropy, accum_quant, total_quant, initial_entropy)"
   ]
  },
  {
   "cell_type": "code",
   "execution_count": 6,
   "metadata": {},
   "outputs": [
    {
     "data": {
      "text/plain": [
       "0.20508844709927898"
      ]
     },
     "execution_count": 6,
     "metadata": {},
     "output_type": "execute_result"
    }
   ],
   "source": [
    "logloss(se[se>0],se[se>0]*0.5)"
   ]
  },
  {
   "cell_type": "code",
   "execution_count": 7,
   "metadata": {},
   "outputs": [
    {
     "data": {
      "text/plain": [
       "504.0"
      ]
     },
     "execution_count": 7,
     "metadata": {},
     "output_type": "execute_result"
    }
   ],
   "source": [
    "mean_calc(vect_x)"
   ]
  },
  {
   "cell_type": "markdown",
   "metadata": {},
   "source": [
    "Regression metrics"
   ]
  },
  {
   "cell_type": "code",
   "execution_count": 8,
   "metadata": {},
   "outputs": [
    {
     "data": {
      "text/plain": [
       "0.2525050100200401"
      ]
     },
     "execution_count": 8,
     "metadata": {},
     "output_type": "execute_result"
    }
   ],
   "source": [
    "diff = vect_x/np.max(vect_x)-vect_x/np.max(vect_x)/2\n",
    "mae_calc(diff)"
   ]
  },
  {
   "cell_type": "code",
   "execution_count": 9,
   "metadata": {},
   "outputs": [
    {
     "data": {
      "text/plain": [
       "0.08425936709758862"
      ]
     },
     "execution_count": 9,
     "metadata": {},
     "output_type": "execute_result"
    }
   ],
   "source": [
    "diff = vect_x/np.max(vect_x)-vect_x/np.max(vect_x)/2\n",
    "mse_calc(diff)"
   ]
  },
  {
   "cell_type": "code",
   "execution_count": 10,
   "metadata": {},
   "outputs": [
    {
     "data": {
      "text/plain": [
       "False"
      ]
     },
     "execution_count": 10,
     "metadata": {},
     "output_type": "execute_result"
    }
   ],
   "source": [
    "# Ordering check func\n",
    "# TESTE 1\n",
    "# index_pairs = [(0, 1), (1, 2)]\n",
    "# value_pairs = [(5.0, 3.0), (7.0, 6.0), (2.0, 2.0)]\n",
    "# i = 0\n",
    "# TESTE 2\n",
    "index_pairs = np.array([(0, 1), (1, 2)])\n",
    "value_pairs = np.array([(3.0, 5.0), (7.0, 6.0), (2.0, 2.0)])\n",
    "i = 0\n",
    "ordering_check(index_pairs, value_pairs, i)"
   ]
  },
  {
   "cell_type": "markdown",
   "metadata": {},
   "source": [
    "# Probability distribution metrics"
   ]
  },
  {
   "cell_type": "code",
   "execution_count": 11,
   "metadata": {},
   "outputs": [
    {
     "data": {
      "text/plain": [
       "[<matplotlib.lines.Line2D at 0x1a6ffe97ca0>]"
      ]
     },
     "execution_count": 11,
     "metadata": {},
     "output_type": "execute_result"
    },
    {
     "data": {
      "image/png": "[encoded data removed]",
      "text/plain": [
       "<Figure size 300x300 with 1 Axes>"
      ]
     },
     "metadata": {},
     "output_type": "display_data"
    }
   ],
   "source": [
    "# TESTE 1\n",
    "# y_points = [1, 2, 3, 4, 5]\n",
    "# y = [2, 4]\n",
    "# TESTE 2\n",
    "# y_points = [1, 1, 2, 2, 3, 3, 4, 4, 5, 5]\n",
    "# y = [3, 5]\n",
    "# TESTE 3\n",
    "y_points = [10, 20, 30, 40, 50]\n",
    "y = [15, 35, 55]\n",
    "\n",
    "acum_prob_points = acum_probability_distribution_points(y_points = y_points,y = y)\n",
    "# acum_prob_points\n",
    "plt.figure(figsize=(3,3))\n",
    "plt.plot(y, acum_prob_points)"
   ]
  },
  {
   "cell_type": "code",
   "execution_count": 12,
   "metadata": {},
   "outputs": [
    {
     "data": {
      "text/plain": [
       "0.25"
      ]
     },
     "execution_count": 12,
     "metadata": {},
     "output_type": "execute_result"
    }
   ],
   "source": [
    "# TESTE 1\n",
    "# y_acum1 = [0.2, 0.4, 0.6, 0.8, 1.0]\n",
    "# y_acum2 = [0.1, 0.3, 0.5, 0.7, 0.9]\n",
    "# TESTE 2\n",
    "# y_acum1 = [0.0, 0.5, 1.0]\n",
    "# y_acum2 = [0.0, 0.5, 1.0]\n",
    "# TESTE 3\n",
    "y_acum1 = [0.25, 0.5, 0.75, 1.0]\n",
    "y_acum2 = [0.0, 0.33, 0.66, 1.0]\n",
    "\n",
    "ks = ks_calc(y_acum1, y_acum2)\n",
    "ks"
   ]
  },
  {
   "cell_type": "code",
   "execution_count": 13,
   "metadata": {},
   "outputs": [
    {
     "data": {
      "text/plain": [
       "0.5"
      ]
     },
     "execution_count": 13,
     "metadata": {},
     "output_type": "execute_result"
    }
   ],
   "source": [
    "#Teste bin probs\n",
    "prob_bin = bin_probability_count(1.0, 2.0, [0.5, 1.5], [1.5, 2.5], np.array([0.3, 0.7]))\n",
    "prob_bin"
   ]
  },
  {
   "cell_type": "markdown",
   "metadata": {},
   "source": [
    "Group and ordering operators"
   ]
  },
  {
   "cell_type": "code",
   "execution_count": 14,
   "metadata": {},
   "outputs": [
    {
     "data": {
      "text/plain": [
       "495"
      ]
     },
     "execution_count": 14,
     "metadata": {},
     "output_type": "execute_result"
    }
   ],
   "source": [
    "result_unique_qt = unique_qt(vect_x)\n",
    "result_unique_qt"
   ]
  },
  {
   "cell_type": "code",
   "execution_count": 15,
   "metadata": {},
   "outputs": [
    {
     "data": {
      "text/plain": [
       "(array([], dtype=float64), array([], dtype=int64), 0)"
      ]
     },
     "execution_count": 15,
     "metadata": {},
     "output_type": "execute_result"
    }
   ],
   "source": [
    "# TESTE 1\n",
    "# entrada = np.array([1, 2, 2, 3, 3, 3])\n",
    "# TESTE 2\n",
    "# entrada = np.array([4, 4, 4, 4])\n",
    "# TESTE 3\n",
    "entrada = np.array([])\n",
    "unique_values_and_counts(entrada)"
   ]
  },
  {
   "cell_type": "code",
   "execution_count": 16,
   "metadata": {},
   "outputs": [
    {
     "data": {
      "text/plain": [
       "(array([0, 2, 1, 3], dtype=int64),\n",
       " array([2, 3], dtype=int64),\n",
       " array([2, 1, 1], dtype=int64),\n",
       " 3)"
      ]
     },
     "execution_count": 16,
     "metadata": {},
     "output_type": "execute_result"
    }
   ],
   "source": [
    "# TESTE 1\n",
    "# entrada = np.array([3, 2, 1, 3, 2])\n",
    "# TESTE 2\n",
    "# entrada = np.array([1, 1, 1, 1])\n",
    "# TESTE 3\n",
    "# entrada = np.array([])\n",
    "# TESTE 4\n",
    "# entrada = np.array([-2, -1, 0, 1, 2])\n",
    "# TESTE 5\n",
    "entrada = np.array([1.5, 2.5, 1.5, 3.5])\n",
    "indices_and_counts(entrada)"
   ]
  },
  {
   "cell_type": "code",
   "execution_count": 17,
   "metadata": {},
   "outputs": [
    {
     "data": {
      "text/plain": [
       "(array([], dtype=float64),\n",
       " array([], dtype=float64),\n",
       " array([], dtype=float64),\n",
       " array([], dtype=float64),\n",
       " 0)"
      ]
     },
     "execution_count": 17,
     "metadata": {},
     "output_type": "execute_result"
    }
   ],
   "source": [
    "# TESTE 1\n",
    "# entrada = np.array([3, 2, 1, 3, 2])\n",
    "# TESTE 2\n",
    "# entrada = np.array([4, 4, 4, 4])\n",
    "# TESTE 3\n",
    "entrada = np.array([])\n",
    "indices_unique_values_and_counts(entrada)"
   ]
  },
  {
   "cell_type": "code",
   "execution_count": null,
   "metadata": {},
   "outputs": [],
   "source": []
  }
 ],
 "metadata": {
  "kernelspec": {
   "display_name": "study",
   "language": "python",
   "name": "python3"
  },
  "language_info": {
   "codemirror_mode": {
    "name": "ipython",
    "version": 3
   },
   "file_extension": ".py",
   "mimetype": "text/x-python",
   "name": "python",
   "nbconvert_exporter": "python",
   "pygments_lexer": "ipython3",
   "version": "3.10.4"
  },
  "orig_nbformat": 4
 },
 "nbformat": 4,
 "nbformat_minor": 2
}
